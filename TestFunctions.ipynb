{
 "cells": [
  {
   "cell_type": "code",
   "execution_count": 1,
   "metadata": {},
   "outputs": [],
   "source": [
    "from time import sleep, time\n",
    "import numpy as np\n",
    "import matplotlib.pyplot as plt\n",
    "from sklearn.gaussian_process.kernels import Matern\n",
    "from sklearn.gaussian_process import GaussianProcessRegressor\n",
    "from bayes_opt import BayesianOptimization, UtilityFunction\n",
    "\n",
    "    \n",
    "def ackley(x, y):\n",
    "    sleep(np.sqrt(x**2 + y**2) / 10)\n",
    "    return -20 * np.exp(-0.2 * np.sqrt(0.5 * (x ** 2 + y ** 2))) - np.exp(0.5 * (np.cos(2 * np.pi * x) + np.cos(2 * np.pi * y))) + np.e + 20\n",
    "\n",
    "def rosenbrock(x, y):\n",
    "    sleep(np.sqrt(x**2 + y**3) / 10)\n",
    "    return 100 * (y - x ** 2) ** 2 + (1 - x) ** 2\n",
    "\n",
    "def rastrigin(x, y):\n",
    "    sleep((x + y**2 + x*y)/10)\n",
    "    return 20 + x ** 2 - 10 * np.cos(2 * np.pi * x) + y ** 2 - 10 * np.cos(2 * np.pi * y)\n",
    "\n",
    "    "
   ]
  },
  {
   "cell_type": "code",
   "execution_count": null,
   "metadata": {},
   "outputs": [],
   "source": [
    "bounds = {'x': (-5, 5), 'y': (-5, 5)}\n",
    "current_optimizing_fun = lambda x, y: -1 * ackley(x, y)\n",
    "\n",
    "optimizer = BayesianOptimization(\n",
    "    f=current_optimizing_fun,\n",
    "    pbounds=bounds\n",
    ")\n",
    "\n",
    "utility = UtilityFunction(kind=\"ei\", kappa=2.5, xi=0.0)\n",
    "max_point = -1 * np.inf\n",
    "max_points = []\n",
    "max_points_time = []\n",
    "start_time = time()\n",
    "num_points_tested = 0\n",
    "while time() - start_time < 30:\n",
    "    num_points_tested += 1\n",
    "    next_point_to_probe = optimizer.suggest(utility)\n",
    "    result = current_optimizing_fun(**next_point_to_probe)\n",
    "    if result > max_point:\n",
    "        max_point = result\n",
    "        max_points.append(-1 * max_point)\n",
    "        max_points_time.append(time() - start_time)\n",
    "        print(f\"Maximum Found: {max_point}\")\n",
    "    optimizer.register(params=next_point_to_probe, target=result)\n",
    "print(f\"Total Points Tested: {num_points_tested}\")\n",
    "\n",
    "plt.plot(max_points_time, max_points)\n",
    "plt.title(\"Bayesian Optimization of Ackley Function with EI Utility Function\")\n",
    "plt.xlabel(\"Time (s)\")\n",
    "plt.ylabel(\"Minimum Value Found\")\n",
    "plt.show()\n",
    "\n"
   ]
  },
  {
   "cell_type": "code",
   "execution_count": 5,
   "metadata": {},
   "outputs": [
    {
     "name": "stdout",
     "output_type": "stream",
     "text": [
      "Maximum value found prior to optimization:  -8.336974452860874\n",
      "Maximum value found:  -6.314959779828531\n",
      "Maximum value found:  -5.638839993013065\n",
      "Maximum value found:  -5.08295143903382\n"
     ]
    }
   ],
   "source": [
    "from AcquisitionFunction import maximize_eit, eit\n",
    "from BayesOptTime import BayesOptTime\n",
    "current_optimizing_fun = lambda x, y: -1 * ackley(x, y)\n",
    "import warnings\n",
    "bounds = [[-5, 5], [-5, 5]]\n",
    "\n",
    "with warnings.catch_warnings():\n",
    "    warnings.simplefilter(\"ignore\")\n",
    "    BayesOptTime(current_optimizing_fun, bounds)"
   ]
  }
 ],
 "metadata": {
  "kernelspec": {
   "display_name": "data1030",
   "language": "python",
   "name": "python3"
  },
  "language_info": {
   "codemirror_mode": {
    "name": "ipython",
    "version": 3
   },
   "file_extension": ".py",
   "mimetype": "text/x-python",
   "name": "python",
   "nbconvert_exporter": "python",
   "pygments_lexer": "ipython3",
   "version": "3.9.16"
  }
 },
 "nbformat": 4,
 "nbformat_minor": 2
}
